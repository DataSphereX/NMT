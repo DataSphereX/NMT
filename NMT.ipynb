{
 "cells": [
  {
   "cell_type": "code",
   "execution_count": 1,
   "metadata": {},
   "outputs": [
    {
     "name": "stdout",
     "output_type": "stream",
     "text": [
      "WARNING:tensorflow:From c:\\Users\\sarve\\anaconda3\\Lib\\site-packages\\keras\\src\\losses.py:2976: The name tf.losses.sparse_softmax_cross_entropy is deprecated. Please use tf.compat.v1.losses.sparse_softmax_cross_entropy instead.\n",
      "\n",
      "WARNING:tensorflow:From c:\\Users\\sarve\\anaconda3\\Lib\\site-packages\\keras\\src\\backend.py:1398: The name tf.executing_eagerly_outside_functions is deprecated. Please use tf.compat.v1.executing_eagerly_outside_functions instead.\n",
      "\n",
      "WARNING:tensorflow:From c:\\Users\\sarve\\anaconda3\\Lib\\site-packages\\keras\\src\\optimizers\\__init__.py:309: The name tf.train.Optimizer is deprecated. Please use tf.compat.v1.train.Optimizer instead.\n",
      "\n",
      "Epoch 1/10\n",
      "WARNING:tensorflow:From c:\\Users\\sarve\\anaconda3\\Lib\\site-packages\\keras\\src\\utils\\tf_utils.py:492: The name tf.ragged.RaggedTensorValue is deprecated. Please use tf.compat.v1.ragged.RaggedTensorValue instead.\n",
      "\n",
      "1/1 [==============================] - 3s 3s/step - loss: 2.3027\n",
      "Epoch 2/10\n",
      "1/1 [==============================] - 0s 16ms/step - loss: 2.2697\n",
      "Epoch 3/10\n",
      "1/1 [==============================] - 0s 10ms/step - loss: 2.2359\n",
      "Epoch 4/10\n",
      "1/1 [==============================] - 0s 17ms/step - loss: 2.1998\n",
      "Epoch 5/10\n",
      "1/1 [==============================] - 0s 14ms/step - loss: 2.1598\n",
      "Epoch 6/10\n",
      "1/1 [==============================] - 0s 16ms/step - loss: 2.1145\n",
      "Epoch 7/10\n",
      "1/1 [==============================] - 0s 16ms/step - loss: 2.0622\n",
      "Epoch 8/10\n",
      "1/1 [==============================] - 0s 17ms/step - loss: 2.0013\n",
      "Epoch 9/10\n",
      "1/1 [==============================] - 0s 12ms/step - loss: 1.9303\n",
      "Epoch 10/10\n",
      "1/1 [==============================] - 0s 11ms/step - loss: 1.8474\n"
     ]
    },
    {
     "name": "stderr",
     "output_type": "stream",
     "text": [
      "c:\\Users\\sarve\\anaconda3\\Lib\\site-packages\\keras\\src\\engine\\training.py:3103: UserWarning: You are saving your model as an HDF5 file via `model.save()`. This file format is considered legacy. We recommend using instead the native Keras format, e.g. `model.save('my_model.keras')`.\n",
      "  saving_api.save_model(\n"
     ]
    }
   ],
   "source": [
    "import tensorflow as tf\n",
    "import numpy as np\n",
    "\n",
    "# Sample data (English-French translation)\n",
    "english_sentences = ['he is a student', 'she loves coding', 'they are friends']\n",
    "french_sentences = ['il est étudiant', 'elle aime coder', 'ils sont amis']\n",
    "\n",
    "# Tokenization\n",
    "english_tokenizer = tf.keras.preprocessing.text.Tokenizer()\n",
    "english_tokenizer.fit_on_texts(english_sentences)\n",
    "english_seq = english_tokenizer.texts_to_sequences(english_sentences)\n",
    "\n",
    "french_tokenizer = tf.keras.preprocessing.text.Tokenizer()\n",
    "french_tokenizer.fit_on_texts(french_sentences)\n",
    "french_seq = french_tokenizer.texts_to_sequences(french_sentences)\n",
    "\n",
    "# Padding sequences\n",
    "english_seq_padded = tf.keras.preprocessing.sequence.pad_sequences(english_seq, padding='post')\n",
    "french_seq_padded = tf.keras.preprocessing.sequence.pad_sequences(french_seq, padding='post')\n",
    "\n",
    "# Define encoder\n",
    "encoder_inputs = tf.keras.layers.Input(shape=(None,))\n",
    "encoder_embedding = tf.keras.layers.Embedding(len(english_tokenizer.word_index)+1, 256)(encoder_inputs)\n",
    "encoder_outputs, state_h, state_c = tf.keras.layers.LSTM(256, return_state=True)(encoder_embedding)\n",
    "encoder_states = [state_h, state_c]\n",
    "\n",
    "# Define decoder\n",
    "decoder_inputs = tf.keras.layers.Input(shape=(None,))\n",
    "decoder_embedding = tf.keras.layers.Embedding(len(french_tokenizer.word_index)+1, 256)(decoder_inputs)\n",
    "decoder_lstm = tf.keras.layers.LSTM(256, return_sequences=True, return_state=True)\n",
    "decoder_outputs, _, _ = decoder_lstm(decoder_embedding, initial_state=encoder_states)\n",
    "attention = tf.keras.layers.Attention()\n",
    "context_vector = attention([decoder_outputs, encoder_outputs])\n",
    "decoder_combined_context = tf.keras.layers.Concatenate(axis=-1)([decoder_outputs, context_vector])\n",
    "decoder_dense = tf.keras.layers.Dense(len(french_tokenizer.word_index)+1, activation='softmax')\n",
    "decoder_outputs = decoder_dense(decoder_combined_context)\n",
    "\n",
    "# Define model\n",
    "model = tf.keras.models.Model([encoder_inputs, decoder_inputs], decoder_outputs)\n",
    "\n",
    "# Compile model\n",
    "model.compile(optimizer='adam', loss='sparse_categorical_crossentropy')\n",
    "\n",
    "# Train model (dummy example)\n",
    "model.fit([english_seq_padded, french_seq_padded[:,:-1]], np.expand_dims(french_seq_padded[:,1:], -1), epochs=10, batch_size=64)\n",
    "\n",
    "# Save model\n",
    "model.save('nmt_model.h5')\n"
   ]
  }
 ],
 "metadata": {
  "kernelspec": {
   "display_name": "base",
   "language": "python",
   "name": "python3"
  },
  "language_info": {
   "codemirror_mode": {
    "name": "ipython",
    "version": 3
   },
   "file_extension": ".py",
   "mimetype": "text/x-python",
   "name": "python",
   "nbconvert_exporter": "python",
   "pygments_lexer": "ipython3",
   "version": "3.11.5"
  }
 },
 "nbformat": 4,
 "nbformat_minor": 2
}
